{
 "cells": [
  {
   "cell_type": "code",
   "execution_count": 1,
   "metadata": {},
   "outputs": [],
   "source": [
    "#Imports\n",
    "import numpy as np\n",
    "import pandas as pd\n",
    "import time\n",
    "from colorama import Fore, Style"
   ]
  },
  {
   "cell_type": "code",
   "execution_count": 13,
   "metadata": {},
   "outputs": [],
   "source": [
    "#Dictionary storing the name of the datasets available\n",
    "city_bikeshare_data = {'chicago' : '\\chicago.csv', 'new york city' : '\\\\new_york_city.csv', 'washington' : '\\washington.csv'}"
   ]
  },
  {
   "cell_type": "code",
   "execution_count": 3,
   "metadata": {},
   "outputs": [],
   "source": [
    "months = ['all', 'january', 'february', 'march', 'april', 'may', 'june']\n",
    "days = ['all', 'sunday', 'monday', 'tuesday', 'wednesday', 'thursday', 'friday', 'saturday']"
   ]
  },
  {
   "cell_type": "code",
   "execution_count": 4,
   "metadata": {},
   "outputs": [],
   "source": [
    "def get_month():\n",
    "    print('\\nEnter the month according to which you want to filter data')\n",
    "    return input().lower()\n",
    "\n",
    "def get_day():\n",
    "    print('\\nEnter the day according to which you want to filter data')\n",
    "    return input().lower()\n",
    "\n",
    "def get_filters():\n",
    "    print('Hello.\\nMy name is Mayur\\nLet\\'s explore some bikesharing data')\n",
    "    while True: # The while loop ensures user input is interactive. If invalid inputs are encountered, appropriate directions\n",
    "                # are given to the use in order to obtain the input\n",
    "        print('\\nWhich city\\'s bikesharing data do you want to analyze ?')\n",
    "        city = input().lower()\n",
    "        \n",
    "        if(city in city_bikeshare_data):\n",
    "            \n",
    "            print('\\nDo you want to filter data by month, day or both.')\n",
    "            print('\\'both\\' to apply both filters and \\'none\\' for no filter') #Asks for filters.\n",
    "            filters = input()\n",
    "            \n",
    "            if(filters == 'both'):\n",
    "                month = get_month()\n",
    "                day = get_day()\n",
    "            elif(filters == 'month'):\n",
    "                month = get_month()\n",
    "                day = 'all'\n",
    "            elif(filters == 'day'):\n",
    "                day = get_day()\n",
    "                month = 'all'\n",
    "            elif(filters == 'none'):\n",
    "                month = 'all'\n",
    "                day = 'all'\n",
    "                break\n",
    "            else:\n",
    "                print(Fore.RED +'\\nThe input was incorrect')\n",
    "                print(Style.RESET_ALL)\n",
    "                continue\n",
    "        else:\n",
    "            print(Fore.RED + '\\nThe city name is not in the data set')\n",
    "            print(Style.RESET_ALL)\n",
    "            continue\n",
    "            \n",
    "        if(month not in months or day not in days):\n",
    "            print(Fore.RED +'\\nThe month or day was incorrect')\n",
    "            print(Style.RESET_ALL)\n",
    "            continue\n",
    "        else:\n",
    "            break\n",
    "    \n",
    "    return city, month, day"
   ]
  },
  {
   "cell_type": "code",
   "execution_count": 5,
   "metadata": {},
   "outputs": [],
   "source": [
    "def load_data(city, month, day):\n",
    "    \n",
    "    df = pd.read_csv(r\"C:\\Users\\VANI\\Desktop\" + city_bikeshare_data.get(city))\n",
    "    df['Start Time'] = pd.to_datetime(df['Start Time'])\n",
    "    df['month'] = df['Start Time'].dt.month\n",
    "    df['day'] = df['Start Time'].dt.weekday_name\n",
    "    \n",
    "    if(month!='all'):\n",
    "        month = months.index(month)\n",
    "        df = df[df['month'] == month]\n",
    "    if(day!='all'):\n",
    "        df = df[df['day'] == day.title()]\n",
    "    \n",
    "    return df"
   ]
  },
  {
   "cell_type": "code",
   "execution_count": 6,
   "metadata": {},
   "outputs": [],
   "source": [
    "def time_stats(df):\n",
    "    \n",
    "    print('\\nCalculating most frequent times of travel.....\\n')\n",
    "    \n",
    "    comm_month = df['month'].mode()\n",
    "    comm_day = df['day'].mode()\n",
    "    df['hour'] = df['Start Time'].dt.hour\n",
    "    comm_hour = df['hour'].mode()\n",
    "    \n",
    "    print(Fore.BLUE + \"Most common month: {}\".format(comm_month.item()))\n",
    "    print(\"Most common day: {}\".format(comm_day.item()))\n",
    "    print(\"Most common hour: {}\".format(comm_hour.item()))\n",
    "    print(Style.RESET_ALL)\n",
    "    print('-'*40)"
   ]
  },
  {
   "cell_type": "code",
   "execution_count": 7,
   "metadata": {},
   "outputs": [],
   "source": [
    "def station_stats(df):\n",
    "    \n",
    "    print('\\nCalculating most frequently used stations and trip......')\n",
    "    \n",
    "    comm_start_station = df['Start Station'].mode()\n",
    "    comm_end_station = df['End Station'].mode()\n",
    "    df['trips'] = df['Start Station']  + \" To \" +  df['End Station']\n",
    "    comm_trip = df['trips'].mode()\n",
    "    \n",
    "    print(Fore.GREEN + \"Most common start station: {}\".format(comm_start_station.item()))\n",
    "    print(\"Most common end station: {}\".format(comm_end_station.item()))\n",
    "    print(\"Most common trip: {}\".format(comm_trip.item()))\n",
    "    print(Style.RESET_ALL) \n",
    "    print('-'*40)"
   ]
  },
  {
   "cell_type": "code",
   "execution_count": 8,
   "metadata": {},
   "outputs": [],
   "source": [
    "def user_stats(df):\n",
    "    \n",
    "    print('\\nCalculating user statistics.....\\n')\n",
    "    \n",
    "    print(df['User Type'].value_counts())\n",
    "    if('Gender' in df.columns):\n",
    "        print(\"\\n\", df['Gender'].value_counts())\n",
    "        print(Fore.YELLOW + \"\\nEarliest Birth Year: {}\".format(df['Birth Year'].min()))\n",
    "        print(\"Most Recent Birth Year: {}\".format(df['Birth Year'].max()))\n",
    "        print(\"Most common Birth Year: {}\".format(df['Birth Year'].mode().item()))\n",
    "        print(Style.RESET_ALL) \n",
    "        print('-'*40)"
   ]
  },
  {
   "cell_type": "code",
   "execution_count": 9,
   "metadata": {},
   "outputs": [],
   "source": [
    "def trip_stats(df):\n",
    "    print('\\nCalculating trip statistics.....\\n')\n",
    "    \n",
    "    print(Fore.CYAN+'\\nTotal Travel Time: {}{}'.format(df['Trip Duration'].sum()/3600, ' hours'))\n",
    "    print('Mean Travel Time: {}{}'.format(df['Trip Duration'].mean()/60, ' minutes'))\n",
    "    print(Style.RESET_ALL) \n",
    "    print('-'*40)"
   ]
  },
  {
   "cell_type": "code",
   "execution_count": 10,
   "metadata": {},
   "outputs": [],
   "source": [
    "def bike_share_analysis():\n",
    "    while True:\n",
    "        city, month, day = get_filters()\n",
    "        df = load_data(city, month, day)\n",
    "\n",
    "        time_stats(df)\n",
    "        station_stats(df)\n",
    "        trip_stats(df)\n",
    "        user_stats(df)\n",
    "\n",
    "        restart = input('\\nWould you like to restart? Enter yes or no.\\n')\n",
    "        if restart.lower() != 'yes':\n",
    "            break"
   ]
  },
  {
   "cell_type": "code",
   "execution_count": 14,
   "metadata": {},
   "outputs": [
    {
     "name": "stdout",
     "output_type": "stream",
     "text": [
      "Hello.\n",
      "My name is Mayur\n",
      "Let's explore some bikesharing data\n",
      "\n",
      "Which city's bikesharing data do you want to analyze ?\n",
      "new York city\n",
      "\n",
      "Do you want to filter data by month, day or both.\n",
      "'both' to apply both filters and 'none' for no filter\n",
      "none\n",
      "\n",
      "Calculating most frequent times of travel.....\n",
      "\n",
      "\u001b[34mMost common month: 6\n",
      "Most common day: Wednesday\n",
      "Most common hour: 17\n",
      "\u001b[0m\n",
      "----------------------------------------\n",
      "\n",
      "Calculating most frequently used stations and trip......\n",
      "\u001b[32mMost common start station: Pershing Square North\n",
      "Most common end station: Pershing Square North\n",
      "Most common trip: E 7 St & Avenue A To Cooper Square & E 7 St\n",
      "\u001b[0m\n",
      "----------------------------------------\n",
      "\n",
      "Calculating trip statistics.....\n",
      "\n",
      "\u001b[36m\n",
      "Total Travel Time: 74973.68 hours\n",
      "Mean Travel Time: 14.994736 minutes\n",
      "\u001b[0m\n",
      "----------------------------------------\n",
      "\n",
      "Calculating user statistics.....\n",
      "\n",
      "Subscriber    269149\n",
      "Customer       30159\n",
      "Name: User Type, dtype: int64\n",
      "\n",
      " Male      204008\n",
      "Female     66783\n",
      "Name: Gender, dtype: int64\n",
      "\u001b[33m\n",
      "Earliest Birth Year: 1885.0\n",
      "Most Recent Birth Year: 2001.0\n",
      "Most common Birth Year: 1989.0\n",
      "\u001b[0m\n",
      "----------------------------------------\n",
      "\n",
      "Would you like to restart? Enter yes or no.\n",
      "no\n"
     ]
    }
   ],
   "source": [
    "bike_share_analysis()"
   ]
  },
  {
   "cell_type": "code",
   "execution_count": null,
   "metadata": {},
   "outputs": [],
   "source": []
  }
 ],
 "metadata": {
  "kernelspec": {
   "display_name": "Python 3",
   "language": "python",
   "name": "python3"
  },
  "language_info": {
   "codemirror_mode": {
    "name": "ipython",
    "version": 3
   },
   "file_extension": ".py",
   "mimetype": "text/x-python",
   "name": "python",
   "nbconvert_exporter": "python",
   "pygments_lexer": "ipython3",
   "version": "3.7.0"
  }
 },
 "nbformat": 4,
 "nbformat_minor": 2
}
